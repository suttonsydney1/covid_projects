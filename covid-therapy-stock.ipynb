{
 "cells": [
  {
   "cell_type": "markdown",
   "metadata": {},
   "source": [
    "Data from https://healthdata.gov/Health/COVID-19-Public-Therapeutic-Locator/rxn6-qnx8"
   ]
  },
  {
   "cell_type": "code",
   "execution_count": 1,
   "metadata": {},
   "outputs": [],
   "source": [
    "#import library\n",
    "import pandas as pd\n",
    "import numpy as np\n",
    "import folium\n",
    "import matplotlib"
   ]
  },
  {
   "cell_type": "markdown",
   "metadata": {},
   "source": [
    "### Metadata"
   ]
  },
  {
   "cell_type": "markdown",
   "metadata": {},
   "source": [
    "DataframeA will include the older stocking data while DataframeB is the latest stock data"
   ]
  },
  {
   "cell_type": "code",
   "execution_count": 2,
   "metadata": {},
   "outputs": [],
   "source": [
    "#define data to input\n",
    "\n",
    "#A is the newest month, B will be the older month\n",
    "df_A = pd.read_csv('C:/Users/Sydney/Desktop/apa_stock_data/COVID-19_Public_Therapeutic_Locator_20230201.csv')\n",
    "df_B = pd.read_csv('C:/Users/Sydney/Desktop/apa_stock_data/COVID-19_Public_Therapeutic_Locator_20220729.csv')\n",
    "\n",
    "date_A = 20230201 #this is the latest date of the report download\n",
    "date_B = 20220729\n",
    "\n",
    "therapy = \"Paxlovid\""
   ]
  },
  {
   "cell_type": "markdown",
   "metadata": {},
   "source": [
    "### Data Exploration"
   ]
  },
  {
   "cell_type": "code",
   "execution_count": 3,
   "metadata": {},
   "outputs": [
    {
     "data": {
      "text/plain": [
       "Index(['Provider Name', 'Address1', 'Address2', 'City', 'County', 'State Code',\n",
       "       'Zip', 'National Drug Code', 'Order Label', 'Courses Available',\n",
       "       'Geocoded Address', 'NPI', 'Last Report Date', 'Provider Status',\n",
       "       'Provider Note'],\n",
       "      dtype='object')"
      ]
     },
     "execution_count": 3,
     "metadata": {},
     "output_type": "execute_result"
    }
   ],
   "source": [
    "df_A.head()\n",
    "df_A.columns"
   ]
  },
  {
   "cell_type": "code",
   "execution_count": 4,
   "metadata": {},
   "outputs": [
    {
     "data": {
      "text/plain": [
       "ACTIVE               98982\n",
       "UNKNOWN INVENTORY     4246\n",
       "Name: Provider Status, dtype: int64"
      ]
     },
     "execution_count": 4,
     "metadata": {},
     "output_type": "execute_result"
    }
   ],
   "source": [
    "#what does our provider status tell us\n",
    "df_A['Provider Status'].value_counts()"
   ]
  },
  {
   "cell_type": "code",
   "execution_count": 5,
   "metadata": {},
   "outputs": [
    {
     "data": {
      "text/plain": [
       "array(['Paxlovid', 'Renal Paxlovid', 'Lagevrio (molnupiravir)',\n",
       "       'Commercial Veklury (remdesivir)'], dtype=object)"
      ]
     },
     "execution_count": 5,
     "metadata": {},
     "output_type": "execute_result"
    }
   ],
   "source": [
    "#what are the unique order lables - anything we don't care about?\n",
    "df_A[\"Order Label\"].unique()"
   ]
  },
  {
   "cell_type": "markdown",
   "metadata": {},
   "source": [
    "### Clean and prepare the data"
   ]
  },
  {
   "cell_type": "code",
   "execution_count": 6,
   "metadata": {},
   "outputs": [],
   "source": [
    "def clean_df(df, date):\n",
    "    \n",
    "    #drop all unnecessary columns for this report and limit to only where the provider status is active\n",
    "    df = df[df[\"Provider Status\"] == \"ACTIVE\"].drop(labels = ['Provider Name', 'Address1', 'Address2','City',\n",
    "                                                                'National Drug Code','NPI','Provider Note'], axis = 1)\n",
    "    \n",
    "    #clena up the geocoded address to be the coordinates only and drop any NA values in that column\n",
    "    df = df.dropna(subset=['Geocoded Address'])\n",
    "    df[\"Geocoded Address\"] = df[\"Geocoded Address\"].astype(\"string\").str.strip('POINT (').str.strip(')')\n",
    "\n",
    "    split_data = df[\"Geocoded Address\"].str.split(' ')\n",
    "    df['long'] = split_data.apply(lambda x: x[0])\n",
    "    df['lat'] = split_data.apply(lambda x: x[1])\n",
    "    df.head()\n",
    "    \n",
    "    new_col = \"Courses Available\" + str(date)\n",
    "    df = df.rename(columns={\"Courses Available\": new_col})\n",
    "    \n",
    "    return df"
   ]
  },
  {
   "cell_type": "code",
   "execution_count": 7,
   "metadata": {},
   "outputs": [],
   "source": [
    "df_A = clean_df(df_A, date_A)\n",
    "df_B = clean_df(df_B, date_B)"
   ]
  },
  {
   "cell_type": "code",
   "execution_count": 8,
   "metadata": {},
   "outputs": [
    {
     "data": {
      "text/html": [
       "<div>\n",
       "<style scoped>\n",
       "    .dataframe tbody tr th:only-of-type {\n",
       "        vertical-align: middle;\n",
       "    }\n",
       "\n",
       "    .dataframe tbody tr th {\n",
       "        vertical-align: top;\n",
       "    }\n",
       "\n",
       "    .dataframe thead th {\n",
       "        text-align: right;\n",
       "    }\n",
       "</style>\n",
       "<table border=\"1\" class=\"dataframe\">\n",
       "  <thead>\n",
       "    <tr style=\"text-align: right;\">\n",
       "      <th></th>\n",
       "      <th>County</th>\n",
       "      <th>State Code</th>\n",
       "      <th>Zip</th>\n",
       "      <th>Order Label</th>\n",
       "      <th>Courses Available20230201</th>\n",
       "      <th>Geocoded Address</th>\n",
       "      <th>Last Report Date</th>\n",
       "      <th>Provider Status</th>\n",
       "      <th>long</th>\n",
       "      <th>lat</th>\n",
       "    </tr>\n",
       "  </thead>\n",
       "  <tbody>\n",
       "    <tr>\n",
       "      <th>0</th>\n",
       "      <td>Adams</td>\n",
       "      <td>CO</td>\n",
       "      <td>80233</td>\n",
       "      <td>Paxlovid</td>\n",
       "      <td>55.0</td>\n",
       "      <td>-104.955542 39.91345</td>\n",
       "      <td>01/25/2023 12:00:00 AM</td>\n",
       "      <td>ACTIVE</td>\n",
       "      <td>-104.955542</td>\n",
       "      <td>39.91345</td>\n",
       "    </tr>\n",
       "    <tr>\n",
       "      <th>1</th>\n",
       "      <td>Faulkner</td>\n",
       "      <td>AR</td>\n",
       "      <td>72032</td>\n",
       "      <td>Paxlovid</td>\n",
       "      <td>35.0</td>\n",
       "      <td>-92.437225 35.09223</td>\n",
       "      <td>01/30/2023 12:00:00 AM</td>\n",
       "      <td>ACTIVE</td>\n",
       "      <td>-92.437225</td>\n",
       "      <td>35.09223</td>\n",
       "    </tr>\n",
       "    <tr>\n",
       "      <th>2</th>\n",
       "      <td>Cook</td>\n",
       "      <td>IL</td>\n",
       "      <td>60302</td>\n",
       "      <td>Paxlovid</td>\n",
       "      <td>6.0</td>\n",
       "      <td>-87.79498 41.8795</td>\n",
       "      <td>01/30/2023 12:00:00 AM</td>\n",
       "      <td>ACTIVE</td>\n",
       "      <td>-87.79498</td>\n",
       "      <td>41.8795</td>\n",
       "    </tr>\n",
       "    <tr>\n",
       "      <th>3</th>\n",
       "      <td>Sullivan</td>\n",
       "      <td>MO</td>\n",
       "      <td>63556</td>\n",
       "      <td>Paxlovid</td>\n",
       "      <td>9.0</td>\n",
       "      <td>-93.12537 40.202935</td>\n",
       "      <td>01/19/2023 12:00:00 AM</td>\n",
       "      <td>ACTIVE</td>\n",
       "      <td>-93.12537</td>\n",
       "      <td>40.202935</td>\n",
       "    </tr>\n",
       "    <tr>\n",
       "      <th>4</th>\n",
       "      <td>Brown</td>\n",
       "      <td>WI</td>\n",
       "      <td>54303</td>\n",
       "      <td>Paxlovid</td>\n",
       "      <td>36.0</td>\n",
       "      <td>-88.047111 44.51736</td>\n",
       "      <td>01/30/2023 12:00:00 AM</td>\n",
       "      <td>ACTIVE</td>\n",
       "      <td>-88.047111</td>\n",
       "      <td>44.51736</td>\n",
       "    </tr>\n",
       "  </tbody>\n",
       "</table>\n",
       "</div>"
      ],
      "text/plain": [
       "     County State Code    Zip Order Label  Courses Available20230201  \\\n",
       "0     Adams         CO  80233    Paxlovid                       55.0   \n",
       "1  Faulkner         AR  72032    Paxlovid                       35.0   \n",
       "2      Cook         IL  60302    Paxlovid                        6.0   \n",
       "3  Sullivan         MO  63556    Paxlovid                        9.0   \n",
       "4     Brown         WI  54303    Paxlovid                       36.0   \n",
       "\n",
       "       Geocoded Address        Last Report Date Provider Status         long  \\\n",
       "0  -104.955542 39.91345  01/25/2023 12:00:00 AM          ACTIVE  -104.955542   \n",
       "1   -92.437225 35.09223  01/30/2023 12:00:00 AM          ACTIVE   -92.437225   \n",
       "2     -87.79498 41.8795  01/30/2023 12:00:00 AM          ACTIVE    -87.79498   \n",
       "3   -93.12537 40.202935  01/19/2023 12:00:00 AM          ACTIVE    -93.12537   \n",
       "4   -88.047111 44.51736  01/30/2023 12:00:00 AM          ACTIVE   -88.047111   \n",
       "\n",
       "         lat  \n",
       "0   39.91345  \n",
       "1   35.09223  \n",
       "2    41.8795  \n",
       "3  40.202935  \n",
       "4   44.51736  "
      ]
     },
     "execution_count": 8,
     "metadata": {},
     "output_type": "execute_result"
    }
   ],
   "source": [
    "df_A.head()"
   ]
  },
  {
   "cell_type": "markdown",
   "metadata": {},
   "source": [
    "## All Therapies"
   ]
  },
  {
   "cell_type": "markdown",
   "metadata": {},
   "source": [
    "### Find the Differences in Stock Over Time"
   ]
  },
  {
   "cell_type": "code",
   "execution_count": 9,
   "metadata": {},
   "outputs": [],
   "source": [
    "#df_A.merge(df_B, on=[\"Zip\", \"Order Label\"], how='left')"
   ]
  },
  {
   "cell_type": "code",
   "execution_count": 10,
   "metadata": {},
   "outputs": [],
   "source": [
    "def zip_change(df1, df2, date1, date2):\n",
    "    df1 = df1.drop(labels = ['State Code', 'County', 'Geocoded Address','Last Report Date', \n",
    "                             'long', 'lat', 'Provider Status'], axis = 1).groupby([\"Zip\",\"Order Label\"]).sum()\n",
    "    df2 = df2.drop(labels = ['State Code', 'County', 'Geocoded Address','Last Report Date', \n",
    "                             'long', 'lat', 'Provider Status'], axis = 1).groupby([\"Zip\",\"Order Label\"]).sum()\n",
    "    \n",
    "    df3 = pd.merge(df1,df2,on=[\"Zip\", \"Order Label\"])\n",
    "    \n",
    "    df3['Delta'] = df3['Courses Available'+str(date1)] - df3['Courses Available'+str(date2)]\n",
    "    \n",
    "    return df3"
   ]
  },
  {
   "cell_type": "code",
   "execution_count": 11,
   "metadata": {},
   "outputs": [],
   "source": [
    "zip_df = zip_change(df_A, df_B, date_A, date_B)"
   ]
  },
  {
   "cell_type": "code",
   "execution_count": 12,
   "metadata": {},
   "outputs": [],
   "source": [
    "def cnty_change(df1, df2, date1, date2):\n",
    "    df1 = df1.drop(labels = ['State Code', 'Zip', 'Geocoded Address','Last Report Date', \n",
    "                             'long', 'lat', 'Provider Status'], axis = 1).groupby([\"County\",\"Order Label\"]).sum()\n",
    "    df2 = df2.drop(labels = ['State Code', 'Zip', 'Geocoded Address','Last Report Date', \n",
    "                             'long', 'lat', 'Provider Status'], axis = 1).groupby([\"County\",\"Order Label\"]).sum()\n",
    "    \n",
    "    df3 = pd.merge(df1,df2,on=[\"County\", \"Order Label\"])\n",
    "    \n",
    "    df3['Delta'] = df3['Courses Available'+str(date1)] - df3['Courses Available'+str(date2)]\n",
    "    \n",
    "    return df3"
   ]
  },
  {
   "cell_type": "code",
   "execution_count": 13,
   "metadata": {},
   "outputs": [],
   "source": [
    "cnty_df = cnty_change(df_A, df_B, date_A, date_B)"
   ]
  },
  {
   "cell_type": "code",
   "execution_count": 14,
   "metadata": {},
   "outputs": [],
   "source": [
    "def state_change(df1, df2, date1, date2):\n",
    "    df1 = df1.drop(labels = ['Zip', 'County', 'Geocoded Address','Last Report Date', \n",
    "                             'long', 'lat', 'Provider Status'], axis = 1).groupby([\"State Code\",\"Order Label\"]).sum()\n",
    "    df2 = df2.drop(labels = ['Zip', 'County', 'Geocoded Address','Last Report Date', \n",
    "                             'long', 'lat', 'Provider Status'], axis = 1).groupby([\"State Code\",\"Order Label\"]).sum()\n",
    "    \n",
    "    df3 = pd.merge(df1,df2,on=[\"State Code\", \"Order Label\"])\n",
    "    \n",
    "    df3['Delta'] = df3['Courses Available'+str(date1)] - df3['Courses Available'+str(date2)]\n",
    "    \n",
    "    return df3"
   ]
  },
  {
   "cell_type": "code",
   "execution_count": 15,
   "metadata": {},
   "outputs": [],
   "source": [
    "state_df = state_change(df_A, df_B, date_A, date_B)"
   ]
  },
  {
   "cell_type": "code",
   "execution_count": 16,
   "metadata": {},
   "outputs": [],
   "source": [
    "def nat_change(df1, df2, date1, date2):\n",
    "    df1 = df1.drop(labels = ['State Code', 'County', 'Zip', 'Geocoded Address','Last Report Date', \n",
    "                             'long', 'lat', 'Provider Status'], axis = 1).groupby([\"Order Label\"]).sum()\n",
    "    df2 = df2.drop(labels = ['State Code', 'County', 'Zip', 'Geocoded Address','Last Report Date', \n",
    "                             'long', 'lat', 'Provider Status'], axis = 1).groupby([\"Order Label\"]).sum()\n",
    "    \n",
    "    df3 = pd.merge(df1,df2,on=[\"Order Label\"])\n",
    "    \n",
    "    df3['Delta'] = df3['Courses Available'+str(date1)] - df3['Courses Available'+str(date2)]\n",
    "    \n",
    "    return df3"
   ]
  },
  {
   "cell_type": "code",
   "execution_count": 17,
   "metadata": {},
   "outputs": [],
   "source": [
    "nat_df = nat_change(df_A, df_B, date_A, date_B)"
   ]
  },
  {
   "cell_type": "code",
   "execution_count": 18,
   "metadata": {},
   "outputs": [
    {
     "data": {
      "text/html": [
       "<div>\n",
       "<style scoped>\n",
       "    .dataframe tbody tr th:only-of-type {\n",
       "        vertical-align: middle;\n",
       "    }\n",
       "\n",
       "    .dataframe tbody tr th {\n",
       "        vertical-align: top;\n",
       "    }\n",
       "\n",
       "    .dataframe thead th {\n",
       "        text-align: right;\n",
       "    }\n",
       "</style>\n",
       "<table border=\"1\" class=\"dataframe\">\n",
       "  <thead>\n",
       "    <tr style=\"text-align: right;\">\n",
       "      <th></th>\n",
       "      <th>Courses Available20230201</th>\n",
       "      <th>Courses Available20220729</th>\n",
       "      <th>Delta</th>\n",
       "    </tr>\n",
       "    <tr>\n",
       "      <th>Order Label</th>\n",
       "      <th></th>\n",
       "      <th></th>\n",
       "      <th></th>\n",
       "    </tr>\n",
       "  </thead>\n",
       "  <tbody>\n",
       "    <tr>\n",
       "      <th>Lagevrio (molnupiravir)</th>\n",
       "      <td>1126283.0</td>\n",
       "      <td>1449110.0</td>\n",
       "      <td>-322827.0</td>\n",
       "    </tr>\n",
       "    <tr>\n",
       "      <th>Paxlovid</th>\n",
       "      <td>1566066.0</td>\n",
       "      <td>1237893.0</td>\n",
       "      <td>328173.0</td>\n",
       "    </tr>\n",
       "    <tr>\n",
       "      <th>Renal Paxlovid</th>\n",
       "      <td>233780.0</td>\n",
       "      <td>187670.0</td>\n",
       "      <td>46110.0</td>\n",
       "    </tr>\n",
       "  </tbody>\n",
       "</table>\n",
       "</div>"
      ],
      "text/plain": [
       "                         Courses Available20230201  Courses Available20220729  \\\n",
       "Order Label                                                                     \n",
       "Lagevrio (molnupiravir)                  1126283.0                  1449110.0   \n",
       "Paxlovid                                 1566066.0                  1237893.0   \n",
       "Renal Paxlovid                            233780.0                   187670.0   \n",
       "\n",
       "                            Delta  \n",
       "Order Label                        \n",
       "Lagevrio (molnupiravir) -322827.0  \n",
       "Paxlovid                 328173.0  \n",
       "Renal Paxlovid            46110.0  "
      ]
     },
     "execution_count": 18,
     "metadata": {},
     "output_type": "execute_result"
    }
   ],
   "source": [
    "nat_df.head()"
   ]
  },
  {
   "cell_type": "markdown",
   "metadata": {},
   "source": [
    "### Export the data summaries"
   ]
  },
  {
   "cell_type": "code",
   "execution_count": 19,
   "metadata": {},
   "outputs": [],
   "source": [
    "nat_df.to_excel(r'C:\\Users\\Sydney\\Desktop\\apa_stock_data\\APA_stock_change_National.xlsx', index=True)\n",
    "state_df.to_excel(r'C:\\Users\\Sydney\\Desktop\\apa_stock_data\\APA_stock_change_State.xlsx', index=True)\n",
    "zip_df.to_excel(r'C:\\Users\\Sydney\\Desktop\\apa_stock_data\\APA_stock_change_Zip.xlsx', index=True)\n",
    "cnty_df.to_excel(r'C:\\Users\\Sydney\\Desktop\\apa_stock_data\\APA_stock_change_Cnty.xlsx', index=True)"
   ]
  },
  {
   "cell_type": "markdown",
   "metadata": {},
   "source": [
    "## Select a Single Therapy"
   ]
  },
  {
   "cell_type": "code",
   "execution_count": 20,
   "metadata": {},
   "outputs": [],
   "source": [
    "df_A2 = df_A[df_A[\"Order Label\"] == therapy]\n",
    "df_B2 = df_B[df_B[\"Order Label\"] == therapy]"
   ]
  },
  {
   "cell_type": "code",
   "execution_count": 21,
   "metadata": {},
   "outputs": [],
   "source": [
    "def zip_change_single(df1, df2, date1, date2):\n",
    "    df1 = df1.drop(labels = ['State Code', 'County', 'Geocoded Address','Last Report Date', \n",
    "                             'long', 'lat', 'Provider Status', 'Order Label'], axis = 1).groupby([\"Zip\"]).sum()\n",
    "    df2 = df2.drop(labels = ['State Code', 'County', 'Geocoded Address','Last Report Date', \n",
    "                             'long', 'lat', 'Provider Status', 'Order Label'], axis = 1).groupby([\"Zip\"]).sum()\n",
    "    \n",
    "    df3 = pd.merge(df1,df2,on=[\"Zip\"])\n",
    "    \n",
    "    df3['Delta'] = df3['Courses Available'+str(date1)] - df3['Courses Available'+str(date2)]\n",
    "    \n",
    "    return df3"
   ]
  },
  {
   "cell_type": "code",
   "execution_count": 22,
   "metadata": {},
   "outputs": [],
   "source": [
    "zip_df2 = zip_change_single(df_A2, df_B2, date_A, date_B)"
   ]
  },
  {
   "cell_type": "code",
   "execution_count": 23,
   "metadata": {},
   "outputs": [],
   "source": [
    "def cnty_change_single(df1, df2, date1, date2):\n",
    "    df1 = df1.drop(labels = ['State Code', 'Zip', 'Geocoded Address','Last Report Date', \n",
    "                             'long', 'lat', 'Provider Status', 'Order Label'], axis = 1).groupby([\"County\"]).sum()\n",
    "    df2 = df2.drop(labels = ['State Code', 'Zip', 'Geocoded Address','Last Report Date', \n",
    "                             'long', 'lat', 'Provider Status', 'Order Label'], axis = 1).groupby([\"County\"]).sum()\n",
    "    \n",
    "    df3 = pd.merge(df1,df2,on=[\"County\"])\n",
    "    \n",
    "    df3['Delta'] = df3['Courses Available'+str(date1)] - df3['Courses Available'+str(date2)]\n",
    "    \n",
    "    return df3"
   ]
  },
  {
   "cell_type": "code",
   "execution_count": 24,
   "metadata": {},
   "outputs": [],
   "source": [
    "cnty_df2 = cnty_change_single(df_A2, df_B2, date_A, date_B)"
   ]
  },
  {
   "cell_type": "code",
   "execution_count": 25,
   "metadata": {},
   "outputs": [],
   "source": [
    "def state_change_single(df1, df2, date1, date2):\n",
    "    df1 = df1.drop(labels = ['Zip', 'County', 'Geocoded Address','Last Report Date', \n",
    "                             'long', 'lat', 'Provider Status', 'Order Label'], axis = 1).groupby([\"State Code\"]).sum()\n",
    "    df2 = df2.drop(labels = ['Zip', 'County', 'Geocoded Address','Last Report Date', \n",
    "                             'long', 'lat', 'Provider Status', 'Order Label'], axis = 1).groupby([\"State Code\"]).sum()\n",
    "    \n",
    "    df3 = pd.merge(df1,df2,on=[\"State Code\"])\n",
    "    \n",
    "    df3['Delta'] = df3['Courses Available'+str(date1)] - df3['Courses Available'+str(date2)]\n",
    "    \n",
    "    return df3"
   ]
  },
  {
   "cell_type": "code",
   "execution_count": 26,
   "metadata": {},
   "outputs": [],
   "source": [
    "state_df2 = state_change_single(df_A2, df_B2, date_A, date_B)"
   ]
  },
  {
   "cell_type": "code",
   "execution_count": 27,
   "metadata": {},
   "outputs": [
    {
     "data": {
      "text/html": [
       "<div>\n",
       "<style scoped>\n",
       "    .dataframe tbody tr th:only-of-type {\n",
       "        vertical-align: middle;\n",
       "    }\n",
       "\n",
       "    .dataframe tbody tr th {\n",
       "        vertical-align: top;\n",
       "    }\n",
       "\n",
       "    .dataframe thead th {\n",
       "        text-align: right;\n",
       "    }\n",
       "</style>\n",
       "<table border=\"1\" class=\"dataframe\">\n",
       "  <thead>\n",
       "    <tr style=\"text-align: right;\">\n",
       "      <th></th>\n",
       "      <th>Courses Available20230201</th>\n",
       "      <th>Courses Available20220729</th>\n",
       "      <th>Delta</th>\n",
       "    </tr>\n",
       "    <tr>\n",
       "      <th>State Code</th>\n",
       "      <th></th>\n",
       "      <th></th>\n",
       "      <th></th>\n",
       "    </tr>\n",
       "  </thead>\n",
       "  <tbody>\n",
       "    <tr>\n",
       "      <th>AK</th>\n",
       "      <td>2038.0</td>\n",
       "      <td>2068.0</td>\n",
       "      <td>-30.0</td>\n",
       "    </tr>\n",
       "    <tr>\n",
       "      <th>AL</th>\n",
       "      <td>17872.0</td>\n",
       "      <td>16468.0</td>\n",
       "      <td>1404.0</td>\n",
       "    </tr>\n",
       "    <tr>\n",
       "      <th>AR</th>\n",
       "      <td>9382.0</td>\n",
       "      <td>8995.0</td>\n",
       "      <td>387.0</td>\n",
       "    </tr>\n",
       "    <tr>\n",
       "      <th>AS</th>\n",
       "      <td>1657.0</td>\n",
       "      <td>1594.0</td>\n",
       "      <td>63.0</td>\n",
       "    </tr>\n",
       "    <tr>\n",
       "      <th>AZ</th>\n",
       "      <td>26425.0</td>\n",
       "      <td>23148.0</td>\n",
       "      <td>3277.0</td>\n",
       "    </tr>\n",
       "  </tbody>\n",
       "</table>\n",
       "</div>"
      ],
      "text/plain": [
       "            Courses Available20230201  Courses Available20220729   Delta\n",
       "State Code                                                              \n",
       "AK                             2038.0                     2068.0   -30.0\n",
       "AL                            17872.0                    16468.0  1404.0\n",
       "AR                             9382.0                     8995.0   387.0\n",
       "AS                             1657.0                     1594.0    63.0\n",
       "AZ                            26425.0                    23148.0  3277.0"
      ]
     },
     "execution_count": 27,
     "metadata": {},
     "output_type": "execute_result"
    }
   ],
   "source": [
    "state_df2.head()"
   ]
  },
  {
   "cell_type": "code",
   "execution_count": 28,
   "metadata": {},
   "outputs": [],
   "source": [
    "def nat_change_single(df1, df2, date1, date2):\n",
    "    df1 = df1.drop(labels = ['State Code', 'County', 'Zip', 'Geocoded Address','Last Report Date', \n",
    "                             'long', 'lat', 'Provider Status'], axis = 1).groupby([\"Order Label\"]).sum()\n",
    "    df2 = df2.drop(labels = ['State Code', 'County', 'Zip', 'Geocoded Address','Last Report Date', \n",
    "                             'long', 'lat', 'Provider Status'], axis = 1).groupby([\"Order Label\"]).sum()\n",
    "    \n",
    "    df3 = pd.merge(df1,df2,on=[\"Order Label\"])\n",
    "    \n",
    "    df3['Delta'] = df3['Courses Available'+str(date1)] - df3['Courses Available'+str(date2)]\n",
    "    \n",
    "    return df3"
   ]
  },
  {
   "cell_type": "code",
   "execution_count": 29,
   "metadata": {},
   "outputs": [],
   "source": [
    "nat_df2 = nat_change_single(df_A2, df_B2, date_A, date_B)"
   ]
  },
  {
   "cell_type": "code",
   "execution_count": 30,
   "metadata": {},
   "outputs": [
    {
     "data": {
      "text/html": [
       "<div>\n",
       "<style scoped>\n",
       "    .dataframe tbody tr th:only-of-type {\n",
       "        vertical-align: middle;\n",
       "    }\n",
       "\n",
       "    .dataframe tbody tr th {\n",
       "        vertical-align: top;\n",
       "    }\n",
       "\n",
       "    .dataframe thead th {\n",
       "        text-align: right;\n",
       "    }\n",
       "</style>\n",
       "<table border=\"1\" class=\"dataframe\">\n",
       "  <thead>\n",
       "    <tr style=\"text-align: right;\">\n",
       "      <th></th>\n",
       "      <th>Courses Available20230201</th>\n",
       "      <th>Courses Available20220729</th>\n",
       "      <th>Delta</th>\n",
       "    </tr>\n",
       "    <tr>\n",
       "      <th>Order Label</th>\n",
       "      <th></th>\n",
       "      <th></th>\n",
       "      <th></th>\n",
       "    </tr>\n",
       "  </thead>\n",
       "  <tbody>\n",
       "    <tr>\n",
       "      <th>Paxlovid</th>\n",
       "      <td>1566066.0</td>\n",
       "      <td>1237893.0</td>\n",
       "      <td>328173.0</td>\n",
       "    </tr>\n",
       "  </tbody>\n",
       "</table>\n",
       "</div>"
      ],
      "text/plain": [
       "             Courses Available20230201  Courses Available20220729     Delta\n",
       "Order Label                                                                \n",
       "Paxlovid                     1566066.0                  1237893.0  328173.0"
      ]
     },
     "execution_count": 30,
     "metadata": {},
     "output_type": "execute_result"
    }
   ],
   "source": [
    "nat_df2.head()"
   ]
  },
  {
   "cell_type": "code",
   "execution_count": null,
   "metadata": {},
   "outputs": [],
   "source": []
  }
 ],
 "metadata": {
  "kernelspec": {
   "display_name": "Python 3",
   "language": "python",
   "name": "python3"
  },
  "language_info": {
   "codemirror_mode": {
    "name": "ipython",
    "version": 3
   },
   "file_extension": ".py",
   "mimetype": "text/x-python",
   "name": "python",
   "nbconvert_exporter": "python",
   "pygments_lexer": "ipython3",
   "version": "3.7.6"
  }
 },
 "nbformat": 4,
 "nbformat_minor": 4
}
